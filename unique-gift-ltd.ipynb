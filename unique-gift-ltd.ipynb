{
 "cells": [
  {
   "cell_type": "markdown",
   "id": "e7cf1490",
   "metadata": {},
   "source": [
    "Load Data\n",
    "\n",
    "pip3 install pandas / install pandas\n",
    "\n",
    "pip3 install numpy / install numpy\n",
    "\n",
    "pandas documentation: https://pandas.pydata.org/docs/getting_started/intro_tutorials/index.html"
   ]
  },
  {
   "cell_type": "code",
   "execution_count": null,
   "id": "2e445b72",
   "metadata": {},
   "outputs": [
    {
     "name": "stdout",
     "output_type": "stream",
     "text": [
      "Dataset Shape: (1067371, 8)\n",
      "\n",
      "==================================================\n",
      "Dataset Info:\n",
      "<class 'pandas.core.frame.DataFrame'>\n",
      "RangeIndex: 1067371 entries, 0 to 1067370\n",
      "Data columns (total 8 columns):\n",
      " #   Column       Non-Null Count    Dtype  \n",
      "---  ------       --------------    -----  \n",
      " 0   Invoice      1067371 non-null  object \n",
      " 1   StockCode    1067371 non-null  object \n",
      " 2   Description  1062989 non-null  object \n",
      " 3   Quantity     1067371 non-null  int64  \n",
      " 4   InvoiceDate  1067371 non-null  object \n",
      " 5   Price        1067371 non-null  float64\n",
      " 6   Customer ID  824364 non-null   float64\n",
      " 7   Country      1067371 non-null  object \n",
      "dtypes: float64(2), int64(1), object(5)\n",
      "memory usage: 65.1+ MB\n",
      "None\n",
      "\n",
      "==================================================\n",
      "Statistical Summary:\n",
      "        Invoice StockCode                         Description      Quantity  \\\n",
      "count   1067371   1067371                             1062989  1.067371e+06   \n",
      "unique    53628      5305                                5698           NaN   \n",
      "top      537434    85123A  WHITE HANGING HEART T-LIGHT HOLDER           NaN   \n",
      "freq       1350      5829                                5918           NaN   \n",
      "mean        NaN       NaN                                 NaN  9.938898e+00   \n",
      "std         NaN       NaN                                 NaN  1.727058e+02   \n",
      "min         NaN       NaN                                 NaN -8.099500e+04   \n",
      "25%         NaN       NaN                                 NaN  1.000000e+00   \n",
      "50%         NaN       NaN                                 NaN  3.000000e+00   \n",
      "75%         NaN       NaN                                 NaN  1.000000e+01   \n",
      "max         NaN       NaN                                 NaN  8.099500e+04   \n",
      "\n",
      "                InvoiceDate         Price    Customer ID         Country  \n",
      "count               1067371  1.067371e+06  824364.000000         1067371  \n",
      "unique                47635           NaN            NaN              43  \n",
      "top     2010-12-06 16:57:00           NaN            NaN  United Kingdom  \n",
      "freq                   1350           NaN            NaN          981330  \n",
      "mean                    NaN  4.649388e+00   15324.638504             NaN  \n",
      "std                     NaN  1.235531e+02    1697.464450             NaN  \n",
      "min                     NaN -5.359436e+04   12346.000000             NaN  \n",
      "25%                     NaN  1.250000e+00   13975.000000             NaN  \n",
      "50%                     NaN  2.100000e+00   15255.000000             NaN  \n",
      "75%                     NaN  4.150000e+00   16797.000000             NaN  \n",
      "max                     NaN  3.897000e+04   18287.000000             NaN  \n",
      "\n",
      "==================================================\n",
      "Missing Values:\n",
      "Invoice             0\n",
      "StockCode           0\n",
      "Description      4382\n",
      "Quantity            0\n",
      "InvoiceDate         0\n",
      "Price               0\n",
      "Customer ID    243007\n",
      "Country             0\n",
      "dtype: int64\n",
      "\n",
      "==================================================\n",
      "Duplicate Rows: 34335\n"
     ]
    }
   ],
   "source": [
    "import pandas as pd\n",
    "\n",
    "# Load the dataset\n",
    "df = pd.read_csv('online_retail.csv', encoding='ISO-8859-1')\n",
    "\n",
    "print(\"Dataset Shape:\", df.shape)\n",
    "print(\"\\n\" + \"=\"*50)\n",
    "\n",
    "print(\"Dataset Info:\")\n",
    "print(df.info()) # Displaying the structure of the DataFrame\n",
    "print(\"\\n\" + \"=\"*50)\n",
    "\n",
    "print(\"Statistical Summary:\")\n",
    "print(df.describe(include='all')) # Displaying summary statistics\n",
    "print(\"\\n\" + \"=\"*50)\n",
    "\n",
    "print(\"Missing Values:\") \n",
    "print(df.isnull().sum()) # Displaying the count of missing values\n",
    "print(\"\\n\" + \"=\"*50)\n",
    "\n",
    "print(\"Duplicate Rows:\", df.duplicated().sum())"
   ]
  },
  {
   "cell_type": "code",
   "execution_count": 5,
   "id": "8555b3da",
   "metadata": {},
   "outputs": [
    {
     "name": "stdout",
     "output_type": "stream",
     "text": [
      "Original shape: (1067371, 8)\n",
      "After removing duplicates: (1033036, 8)\n",
      "Cancelled orders found: 19104\n",
      "After removing cancelled orders: (1013932, 8)\n",
      "Records with price <= 0: 6019\n",
      "After removing zero/negative prices: (1007913, 8)\n",
      "Records with quantity <= 0: 0\n",
      "After removing zero/negative quantities: (1007913, 8)\n",
      "Missing Customer IDs: 228488\n",
      "Dataset with Customer IDs: (779425, 8)\n",
      "After removing non-product codes: (1003478, 8)\n"
     ]
    }
   ],
   "source": [
    "\n",
    "# Data Cleaning Steps\n",
    "df_clean = df.copy()\n",
    "\n",
    "# Step 1: Remove duplicates\n",
    "print(f\"Original shape: {df_clean.shape}\")\n",
    "df_clean = df_clean.drop_duplicates()\n",
    "print(f\"After removing duplicates: {df_clean.shape}\")\n",
    "\n",
    "# Step 2: Handle cancelled orders (Invoice starting with 'C')\n",
    "cancelled_orders = df_clean[df_clean['Invoice'].astype(str).str.startswith('C')]\n",
    "print(f\"Cancelled orders found: {len(cancelled_orders)}\")\n",
    "df_clean = df_clean[~df_clean['Invoice'].astype(str).str.startswith('C')]\n",
    "print(f\"After removing cancelled orders: {df_clean.shape}\")\n",
    "\n",
    "# Step 3: Remove records with zero or negative price\n",
    "print(f\"Records with price <= 0: {(df_clean['Price'] <= 0).sum()}\")\n",
    "df_clean = df_clean[df_clean['Price'] > 0]\n",
    "print(f\"After removing zero/negative prices: {df_clean.shape}\")\n",
    "\n",
    "# Step 4: Remove records with zero or negative quantity\n",
    "print(f\"Records with quantity <= 0: {(df_clean['Quantity'] <= 0).sum()}\")\n",
    "df_clean = df_clean[df_clean['Quantity'] > 0]\n",
    "print(f\"After removing zero/negative quantities: {df_clean.shape}\")\n",
    "\n",
    "# Step 5: Handle missing Customer IDs\n",
    "print(f\"Missing Customer IDs: {df_clean['Customer ID'].isnull().sum()}\")\n",
    "# For RFM analysis, we need Customer ID, so we'll create two datasets\n",
    "df_with_customers = df_clean.dropna(subset=['Customer ID']).copy()\n",
    "print(f\"Dataset with Customer IDs: {df_with_customers.shape}\")\n",
    "\n",
    "# Step 6: Remove non-product stock codes\n",
    "non_product_codes = ['POST', 'D', 'C2', 'M', 'BANK CHARGES', 'PADS', 'DOT']\n",
    "df_clean = df_clean[~df_clean['StockCode'].isin(non_product_codes)]\n",
    "df_with_customers = df_with_customers[~df_with_customers['StockCode'].isin(non_product_codes)]\n",
    "print(f\"After removing non-product codes: {df_clean.shape}\")"
   ]
  },
  {
   "cell_type": "code",
   "execution_count": null,
   "id": "180b6e4e",
   "metadata": {},
   "outputs": [
    {
     "name": "stdout",
     "output_type": "stream",
     "text": [
      "Data preprocessing completed!\n",
      "Final dataset shape: (1003478, 16)\n",
      "Dataset with customers shape: (776624, 16)\n"
     ]
    }
   ],
   "source": []
  },
  {
   "cell_type": "code",
   "execution_count": null,
   "id": "c8bc6359",
   "metadata": {},
   "outputs": [],
   "source": []
  }
 ],
 "metadata": {
  "kernelspec": {
   "display_name": "Python 3",
   "language": "python",
   "name": "python3"
  },
  "language_info": {
   "codemirror_mode": {
    "name": "ipython",
    "version": 3
   },
   "file_extension": ".py",
   "mimetype": "text/x-python",
   "name": "python",
   "nbconvert_exporter": "python",
   "pygments_lexer": "ipython3",
   "version": "3.13.3"
  }
 },
 "nbformat": 4,
 "nbformat_minor": 5
}
